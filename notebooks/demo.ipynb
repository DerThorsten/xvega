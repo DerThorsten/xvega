{
 "cells": [
  {
   "cell_type": "markdown",
   "metadata": {},
   "source": [
    "## XVega Tutorial\n",
    "##### Note: The example plots here are heavily borrowed from the official Altair tutorial."
   ]
  },
  {
   "cell_type": "markdown",
   "metadata": {},
   "source": [
    "### 1. Imports and Data"
   ]
  },
  {
   "cell_type": "code",
   "execution_count": null,
   "metadata": {},
   "outputs": [],
   "source": [
    "#include \"xvega/xvega.hpp\""
   ]
  },
  {
   "cell_type": "code",
   "execution_count": null,
   "metadata": {},
   "outputs": [],
   "source": [
    "using namespace xv;"
   ]
  },
  {
   "cell_type": "code",
   "execution_count": null,
   "metadata": {},
   "outputs": [],
   "source": [
    "auto df = url_data().url(\"https://vega.github.io/vega-datasets/data/cars.json\");"
   ]
  },
  {
   "cell_type": "markdown",
   "metadata": {},
   "source": [
    "### 2. Zero Dimensional Chart"
   ]
  },
  {
   "cell_type": "code",
   "execution_count": null,
   "metadata": {},
   "outputs": [],
   "source": [
    "auto mp = mark_point();\n",
    "auto fig = Chart().data(df).marks({mp});\n",
    "fig"
   ]
  },
  {
   "cell_type": "markdown",
   "metadata": {},
   "source": [
    "### 3. One Dimensional Chart"
   ]
  },
  {
   "cell_type": "code",
   "execution_count": null,
   "metadata": {},
   "outputs": [],
   "source": [
    "auto x_enc = X().field(\"Miles_per_Gallon\").type(\"quantitative\");\n",
    "auto enc = Encodings().x(x_enc);\n",
    "fig = Chart().data(df).marks({mp}).encodings({enc}).width(400);\n",
    "fig"
   ]
  },
  {
   "cell_type": "markdown",
   "metadata": {},
   "source": [
    "### 4. Two Dimensional Chart"
   ]
  },
  {
   "cell_type": "code",
   "execution_count": null,
   "metadata": {},
   "outputs": [],
   "source": [
    "auto y_enc = Y().field(\"Horsepower\").type(\"quantitative\");\n",
    "enc = Encodings().x(x_enc).y(y_enc);\n",
    "\n",
    "fig = Chart().data(df).marks({mp}).encodings({enc}).width(400).height(300);\n",
    "fig"
   ]
  },
  {
   "cell_type": "markdown",
   "metadata": {},
   "source": [
    "### 5. Third Dimension? "
   ]
  },
  {
   "cell_type": "markdown",
   "metadata": {},
   "source": [
    "#### With Categorical data"
   ]
  },
  {
   "cell_type": "code",
   "execution_count": null,
   "metadata": {},
   "outputs": [],
   "source": [
    "auto color_enc = Color().field(\"Origin\").type(\"nominal\");\n",
    "enc = Encodings().x(x_enc).y(y_enc).color(color_enc);\n",
    "\n",
    "fig = Chart().data(df).marks({mp}).encodings({enc}).width(400).height(300);\n",
    "fig"
   ]
  },
  {
   "cell_type": "markdown",
   "metadata": {},
   "source": [
    "#### What if the type is changed to Quantitative i.e. Continuous values?"
   ]
  },
  {
   "cell_type": "code",
   "execution_count": null,
   "metadata": {},
   "outputs": [],
   "source": [
    "color_enc = Color().field(\"Acceleration\").type(\"quantitative\");\n",
    "enc = Encodings().x(x_enc).y(y_enc).color(color_enc);\n",
    "\n",
    "fig = Chart().data(df).marks({mp}).encodings({enc}).width(400).height(300);\n",
    "fig"
   ]
  },
  {
   "cell_type": "markdown",
   "metadata": {},
   "source": [
    "#### What if the type is changed to Ordinal i.e. Ordered Values?"
   ]
  },
  {
   "cell_type": "code",
   "execution_count": null,
   "metadata": {},
   "outputs": [],
   "source": [
    "color_enc = Color().field(\"Cylinders\").type(\"ordinal\");\n",
    "enc = Encodings().x(x_enc).y(y_enc).color(color_enc);\n",
    "\n",
    "fig = Chart().data(df).marks({mp}).encodings({enc}).width(400).height(300);\n",
    "fig"
   ]
  },
  {
   "cell_type": "markdown",
   "metadata": {},
   "source": [
    "### 6. Binning and Aggregation"
   ]
  },
  {
   "cell_type": "markdown",
   "metadata": {},
   "source": [
    "#### Binning with default parameters"
   ]
  },
  {
   "cell_type": "code",
   "execution_count": null,
   "metadata": {},
   "outputs": [],
   "source": [
    "auto mb = mark_bar();\n",
    "x_enc = X().field(\"Miles_per_Gallon\").type(\"quantitative\").bin(true);\n",
    "y_enc = Y().aggregate(\"count\");\n",
    "\n",
    "enc = Encodings().x(x_enc).y(y_enc);\n",
    "\n",
    "fig = Chart().data(df).marks({mb}).encodings({enc}).width(400).height(300);\n",
    "fig"
   ]
  },
  {
   "cell_type": "markdown",
   "metadata": {},
   "source": [
    "#### Binning with more control"
   ]
  },
  {
   "cell_type": "code",
   "execution_count": null,
   "metadata": {},
   "outputs": [],
   "source": [
    "auto bin_params = Bin().maxbins(30);\n",
    "x_enc = X().field(\"Miles_per_Gallon\").type(\"quantitative\").bin(bin_params);\n",
    "\n",
    "enc = Encodings().x(x_enc).y(y_enc);\n",
    "\n",
    "fig = Chart().data(df).marks({mb}).encodings({enc}).width(400).height(300);\n",
    "fig"
   ]
  },
  {
   "cell_type": "markdown",
   "metadata": {},
   "source": [
    "#### Let's add the 3rd dimension again!"
   ]
  },
  {
   "cell_type": "code",
   "execution_count": null,
   "metadata": {},
   "outputs": [],
   "source": [
    "color_enc = Color().field(\"Origin\").type(\"nominal\");\n",
    "enc = Encodings().x(x_enc).y(y_enc).color(color_enc);\n",
    "\n",
    "fig = Chart().data(df).marks({mb}).encodings({enc}).width(400).height(300);\n",
    "fig"
   ]
  },
  {
   "cell_type": "markdown",
   "metadata": {},
   "source": [
    "#### What about separate plots?"
   ]
  },
  {
   "cell_type": "code",
   "execution_count": null,
   "metadata": {},
   "outputs": [],
   "source": [
    "auto column_enc = Column().field(\"Origin\").type(\"nominal\");\n",
    "\n",
    "enc = Encodings().x(x_enc).y(y_enc).color(color_enc).column(column_enc);\n",
    "\n",
    "fig = Chart().data(df).marks({mb}).encodings({enc}).width(400).height(300);\n",
    "fig"
   ]
  },
  {
   "cell_type": "markdown",
   "metadata": {},
   "source": [
    "#### Binning in Two Dimensions"
   ]
  },
  {
   "cell_type": "code",
   "execution_count": null,
   "metadata": {},
   "outputs": [],
   "source": [
    "auto mr = mark_rect();\n",
    "\n",
    "x_enc = X().field(\"Miles_per_Gallon\").type(\"quantitative\").bin(true);\n",
    "y_enc = Y().field(\"Horsepower\").type(\"quantitative\").bin(true);\n",
    "color_enc = Color().aggregate(\"count\");\n",
    "\n",
    "enc = Encodings().x(x_enc).y(y_enc).color(color_enc);\n",
    "\n",
    "fig = Chart().data(df).marks({mr}).encodings({enc}).width(400).height(300);\n",
    "fig"
   ]
  },
  {
   "cell_type": "markdown",
   "metadata": {},
   "source": [
    "#### Let's change the aggregation from counting to mean"
   ]
  },
  {
   "cell_type": "code",
   "execution_count": null,
   "metadata": {},
   "outputs": [],
   "source": [
    "color_enc = Color().field(\"Weight_in_lbs\").type(\"quantitative\").aggregate(\"mean\");\n",
    "\n",
    "enc = Encodings().x(x_enc).y(y_enc).color(color_enc);\n",
    "\n",
    "fig = Chart().data(df).marks({mr}).encodings({enc}).width(400).height(300);\n",
    "fig"
   ]
  },
  {
   "cell_type": "markdown",
   "metadata": {},
   "source": [
    "### 7. Time Series and Layering"
   ]
  },
  {
   "cell_type": "code",
   "execution_count": null,
   "metadata": {},
   "outputs": [],
   "source": [
    "x_enc = X().field(\"Year\").type(\"temporal\");\n",
    "y_enc = Y().field(\"Miles_per_Gallon\").type(\"quantitative\");\n",
    "\n",
    "enc = Encodings().x(x_enc).y(y_enc);\n",
    "\n",
    "fig = Chart().data(df).marks({mp}).encodings({enc}).width(400).height(300);\n",
    "fig"
   ]
  },
  {
   "cell_type": "markdown",
   "metadata": {},
   "source": [
    "#### Let's plot the mean instead of all points"
   ]
  },
  {
   "cell_type": "code",
   "execution_count": null,
   "metadata": {},
   "outputs": [],
   "source": [
    "auto ml = mark_line();\n",
    "y_enc = Y().field(\"Miles_per_Gallon\").type(\"quantitative\").aggregate(\"mean\");\n",
    "\n",
    "enc = Encodings().x(x_enc).y(y_enc);\n",
    "\n",
    "fig = Chart().data(df).marks({ml}).encodings({enc}).width(400).height(300);\n",
    "fig"
   ]
  },
  {
   "cell_type": "markdown",
   "metadata": {},
   "source": [
    "#### We can also plot the confidence interval of the estimated mean"
   ]
  },
  {
   "cell_type": "code",
   "execution_count": null,
   "metadata": {},
   "outputs": [],
   "source": [
    "auto ma = mark_area();\n",
    "y_enc = Y().field(\"Miles_per_Gallon\").type(\"quantitative\").aggregate(\"ci0\");\n",
    "auto y2_enc = Y2().field(\"Miles_per_Gallon\").aggregate(\"ci1\");\n",
    "\n",
    "enc = Encodings().x(x_enc).y(y_enc).y2(y2_enc);\n",
    "\n",
    "fig = Chart().data(df).marks({ma}).encodings({enc}).width(400).height(300);\n",
    "fig"
   ]
  },
  {
   "cell_type": "markdown",
   "metadata": {},
   "source": [
    "#### Let's Adjust the Chart by configuring Opacity, adding a cleaner Y Axis Title and splitting it by Country of Origin"
   ]
  },
  {
   "cell_type": "code",
   "execution_count": null,
   "metadata": {},
   "outputs": [],
   "source": [
    "ma = mark_area().opacity(0.3);\n",
    "x_enc = X().field(\"Year\").type(\"temporal\").timeUnit(\"year\");\n",
    "\n",
    "std::vector<std::string> title_text = {\"Miles per Gallon\"};\n",
    "auto ax = Axis().title(title_text);\n",
    "\n",
    "y_enc = Y().field(\"Miles_per_Gallon\").type(\"quantitative\").aggregate(\"ci0\").axis(ax);\n",
    "color_enc = Color().field(\"Origin\").type(\"nominal\");\n",
    "\n",
    "enc = Encodings().x(x_enc).y(y_enc).y2(y2_enc).color(color_enc);\n",
    "\n",
    "fig = Chart().data(df).marks({ma}).encodings({enc}).width(800).height(300);\n",
    "fig"
   ]
  },
  {
   "cell_type": "markdown",
   "metadata": {},
   "source": [
    "#### Let's represent the mean on top of the confidence interval"
   ]
  },
  {
   "cell_type": "code",
   "execution_count": null,
   "metadata": {},
   "outputs": [],
   "source": [
    "auto y_enc_2 = Y().field(\"Miles_per_Gallon\").type(\"quantitative\").aggregate(\"mean\");\n",
    "\n",
    "auto enc_2 = Encodings().x(x_enc).y(y_enc_2).color(color_enc);\n",
    "\n",
    "fig = Chart().data(df).marks({ma, ml}).encodings({enc, enc_2}).width(800).height(300);\n",
    "fig"
   ]
  },
  {
   "cell_type": "markdown",
   "metadata": {},
   "source": [
    "### 8. Transformations"
   ]
  },
  {
   "cell_type": "markdown",
   "metadata": {},
   "source": [
    "#### Let's do some Polynomial Regression on Horsepower vs. Miles per Gallon"
   ]
  },
  {
   "cell_type": "code",
   "execution_count": null,
   "metadata": {},
   "outputs": [],
   "source": [
    "x_enc = X().field(\"Miles_per_Gallon\").type(\"quantitative\");\n",
    "y_enc = Y().field(\"Horsepower\").type(\"quantitative\");\n",
    "\n",
    "enc = Encodings().x(x_enc).y(y_enc);\n",
    "\n",
    "fig = Chart().data(df).marks({mp}).encodings({enc}).width(400).height(300);\n",
    "fig"
   ]
  },
  {
   "cell_type": "code",
   "execution_count": null,
   "metadata": {},
   "outputs": [],
   "source": [
    "auto regr = transform_regression().regression(\"Horsepower\").on(\"Miles_per_Gallon\").method(\"poly\");\n",
    "\n",
    "ml = mark_line().color(\"firebrick\");\n",
    "\n",
    "fig = Chart().data(df).marks({ml}).encodings({enc}).transformations({regr}).width(400).height(300);\n",
    "fig"
   ]
  },
  {
   "cell_type": "markdown",
   "metadata": {},
   "source": [
    "### 9. Sneak Peek on Selections and Interactivity"
   ]
  },
  {
   "cell_type": "code",
   "execution_count": null,
   "metadata": {},
   "outputs": [],
   "source": [
    "auto si = selection_interval();\n",
    "\n",
    "color_enc = Color().field(\"Origin\").type(\"nominal\");\n",
    "enc = Encodings().x(x_enc).y(y_enc).color(color_enc);\n",
    "\n",
    "fig = Chart().data(df).marks({mp}).encodings({enc}).selections({si}).width(400).height(300);\n",
    "fig"
   ]
  },
  {
   "cell_type": "markdown",
   "metadata": {},
   "source": [
    "#### Customising the Interval Selection"
   ]
  },
  {
   "cell_type": "code",
   "execution_count": null,
   "metadata": {},
   "outputs": [],
   "source": [
    "std::vector<std::string> si_props = {\"y\"};\n",
    "si = selection_interval().encodings(si_props);\n",
    "\n",
    "fig = Chart().data(df).marks({mp}).encodings({enc}).selections({si}).width(400).height(300);\n",
    "fig"
   ]
  },
  {
   "cell_type": "code",
   "execution_count": null,
   "metadata": {},
   "outputs": [],
   "source": [
    "si = selection_interval().bind(\"scales\");\n",
    "\n",
    "auto tooltip_enc = Tooltip().field(\"Name\").type(\"nominal\");\n",
    "auto t = {tooltip_enc};\n",
    "\n",
    "enc = Encodings().x(x_enc).y(y_enc).color(color_enc).tooltip(t);\n",
    "\n",
    "fig = Chart().data(df).marks({mp}).encodings({enc}).selections({si}).width(400).height(300);\n",
    "fig"
   ]
  },
  {
   "cell_type": "markdown",
   "metadata": {},
   "source": [
    "##### Note: While single and multi selections also work, it would be futile to demo them without conditions and conditions haven't been implemented as of now."
   ]
  },
  {
   "cell_type": "markdown",
   "metadata": {},
   "source": [
    "### Coming Soon!\n",
    "- Support for Conditions\n",
    "- Support for View Compositions (Horizontal and Vertical Concatenation, etc.)\n",
    "- Chart Configurations"
   ]
  }
 ],
 "metadata": {
  "kernelspec": {
   "display_name": "C++14",
   "language": "C++14",
   "name": "xcpp14"
  },
  "language_info": {
   "codemirror_mode": "text/x-c++src",
   "file_extension": ".cpp",
   "mimetype": "text/x-c++src",
   "name": "c++",
   "version": "14"
  }
 },
 "nbformat": 4,
 "nbformat_minor": 4
}
