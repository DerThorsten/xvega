{
 "cells": [
  {
   "cell_type": "markdown",
   "metadata": {},
   "source": [
    "## XVega Tutorial\n",
    "##### Note: The example plots here are heavily borrowed from the official Altair tutorial."
   ]
  },
  {
   "cell_type": "markdown",
   "metadata": {},
   "source": [
    "### 1. Imports and Data"
   ]
  },
  {
   "cell_type": "code",
   "execution_count": null,
   "metadata": {},
   "outputs": [],
   "source": [
    "#include \"xvega/xvega.hpp\""
   ]
  },
  {
   "cell_type": "code",
   "execution_count": null,
   "metadata": {},
   "outputs": [],
   "source": [
    "using namespace xv;"
   ]
  },
  {
   "cell_type": "code",
   "execution_count": null,
   "metadata": {},
   "outputs": [],
   "source": [
    "auto df = url_data().url(\"https://vega.github.io/vega-datasets/data/cars.json\");"
   ]
  },
  {
   "cell_type": "markdown",
   "metadata": {},
   "source": [
    "### 2. Zero Dimensional Chart"
   ]
  },
  {
   "cell_type": "code",
   "execution_count": null,
   "metadata": {},
   "outputs": [],
   "source": [
    "auto mp = mark_point();\n",
    "auto fig = Chart().data(df).mark(mp);\n",
    "fig"
   ]
  },
  {
   "cell_type": "markdown",
   "metadata": {},
   "source": [
    "### 3. One Dimensional Chart"
   ]
  },
  {
   "cell_type": "code",
   "execution_count": null,
   "metadata": {},
   "outputs": [],
   "source": [
    "auto x_enc = X().field(\"Miles_per_Gallon\").type(\"quantitative\");\n",
    "auto enc = Encodings().x(x_enc);\n",
    "fig = Chart().data(df).mark(mp).encoding(enc).width(400);\n",
    "fig"
   ]
  },
  {
   "cell_type": "markdown",
   "metadata": {},
   "source": [
    "### 4. Two Dimensional Chart"
   ]
  },
  {
   "cell_type": "code",
   "execution_count": null,
   "metadata": {},
   "outputs": [],
   "source": [
    "auto y_enc = Y().field(\"Horsepower\").type(\"quantitative\");\n",
    "enc = Encodings().x(x_enc).y(y_enc);\n",
    "\n",
    "fig = Chart().data(df).mark(mp).encoding(enc).title(\"Simple 2D Chart\").width(400).height(300);\n",
    "fig"
   ]
  },
  {
   "cell_type": "markdown",
   "metadata": {},
   "source": [
    "### 5. Third Dimension? "
   ]
  },
  {
   "cell_type": "markdown",
   "metadata": {},
   "source": [
    "#### With Categorical data\n",
    "\n",
    "Let's also showcase Horizontal Concatenation as a Bonus - with Titles aligned differently for each chart!"
   ]
  },
  {
   "cell_type": "code",
   "execution_count": null,
   "metadata": {},
   "outputs": [],
   "source": [
    "auto color_enc = Color().field(\"Origin\").type(\"nominal\");\n",
    "enc = Encodings().x(x_enc).y(y_enc).color(color_enc);\n",
    "\n",
    "x_enc = X().field(\"Acceleration\").type(\"quantitative\");\n",
    "auto enc_2 = Encodings().x(x_enc).y(y_enc).color(color_enc);\n",
    "\n",
    "auto t_left = Title().text(\"Left Chart\").anchor(\"start\");\n",
    "fig = Chart().data(df).mark(mp).encoding(enc).title(t_left).width(400).height(300);\n",
    "\n",
    "auto t_right = Title().text(\"Right Chart\").anchor(\"end\");\n",
    "auto fig2 = Chart().data(df).mark(mp).encoding(enc_2).title(t_right).width(400).height(300);\n",
    "\n",
    "auto fig3 = hconcat().charts({fig, fig2});\n",
    "fig3"
   ]
  },
  {
   "cell_type": "markdown",
   "metadata": {},
   "source": [
    "#### What if the type is changed to Quantitative i.e. Continuous values?"
   ]
  },
  {
   "cell_type": "code",
   "execution_count": null,
   "metadata": {},
   "outputs": [],
   "source": [
    "color_enc = Color().field(\"Acceleration\").type(\"quantitative\");\n",
    "enc = Encodings().x(x_enc).y(y_enc).color(color_enc);\n",
    "\n",
    "fig = Chart().data(df).mark(mp).encoding(enc).width(400).height(300);\n",
    "fig"
   ]
  },
  {
   "cell_type": "markdown",
   "metadata": {},
   "source": [
    "#### What if the type is changed to Ordinal i.e. Ordered Values?"
   ]
  },
  {
   "cell_type": "code",
   "execution_count": null,
   "metadata": {},
   "outputs": [],
   "source": [
    "color_enc = Color().field(\"Cylinders\").type(\"ordinal\");\n",
    "enc = Encodings().x(x_enc).y(y_enc).color(color_enc);\n",
    "\n",
    "fig = Chart().data(df).mark(mp).encoding(enc).width(400).height(300);\n",
    "fig"
   ]
  },
  {
   "cell_type": "markdown",
   "metadata": {},
   "source": [
    "### 6. Binning and Aggregation"
   ]
  },
  {
   "cell_type": "markdown",
   "metadata": {},
   "source": [
    "#### Binning with default parameters"
   ]
  },
  {
   "cell_type": "code",
   "execution_count": null,
   "metadata": {},
   "outputs": [],
   "source": [
    "auto mb = mark_bar();\n",
    "x_enc = X().field(\"Miles_per_Gallon\").type(\"quantitative\").bin(true);\n",
    "y_enc = Y().aggregate(\"count\");\n",
    "\n",
    "enc = Encodings().x(x_enc).y(y_enc);\n",
    "\n",
    "fig = Chart().data(df).mark(mb).encoding(enc).width(400).height(300);\n",
    "fig"
   ]
  },
  {
   "cell_type": "markdown",
   "metadata": {},
   "source": [
    "#### Binning with more control"
   ]
  },
  {
   "cell_type": "code",
   "execution_count": null,
   "metadata": {},
   "outputs": [],
   "source": [
    "auto bin_params = Bin().maxbins(30);\n",
    "x_enc = X().field(\"Miles_per_Gallon\").type(\"quantitative\").bin(bin_params);\n",
    "\n",
    "enc = Encodings().x(x_enc).y(y_enc);\n",
    "\n",
    "fig = Chart().data(df).mark(mb).encoding(enc).width(400).height(300);\n",
    "fig"
   ]
  },
  {
   "cell_type": "markdown",
   "metadata": {},
   "source": [
    "#### Let's add the 3rd dimension again!"
   ]
  },
  {
   "cell_type": "code",
   "execution_count": null,
   "metadata": {},
   "outputs": [],
   "source": [
    "color_enc = Color().field(\"Origin\").type(\"nominal\");\n",
    "enc = Encodings().x(x_enc).y(y_enc).color(color_enc);\n",
    "\n",
    "fig = Chart().data(df).mark(mb).encoding(enc).width(400).height(300);\n",
    "fig"
   ]
  },
  {
   "cell_type": "markdown",
   "metadata": {},
   "source": [
    "#### What about separate plots?"
   ]
  },
  {
   "cell_type": "code",
   "execution_count": null,
   "metadata": {},
   "outputs": [],
   "source": [
    "auto column_enc = Column().field(\"Origin\").type(\"nominal\");\n",
    "\n",
    "enc = Encodings().x(x_enc).y(y_enc).color(color_enc).column(column_enc);\n",
    "\n",
    "fig = Chart().data(df).mark(mb).encoding(enc).width(400).height(300);\n",
    "fig"
   ]
  },
  {
   "cell_type": "markdown",
   "metadata": {},
   "source": [
    "#### Binning in Two Dimensions"
   ]
  },
  {
   "cell_type": "code",
   "execution_count": null,
   "metadata": {},
   "outputs": [],
   "source": [
    "auto mr = mark_rect();\n",
    "\n",
    "x_enc = X().field(\"Miles_per_Gallon\").type(\"quantitative\").bin(true);\n",
    "y_enc = Y().field(\"Horsepower\").type(\"quantitative\").bin(true);\n",
    "color_enc = Color().aggregate(\"count\");\n",
    "\n",
    "enc = Encodings().x(x_enc).y(y_enc).color(color_enc);\n",
    "\n",
    "fig = Chart().data(df).mark(mr).encoding(enc).width(400).height(300);\n",
    "fig"
   ]
  },
  {
   "cell_type": "markdown",
   "metadata": {},
   "source": [
    "#### Let's change the aggregation from counting to mean"
   ]
  },
  {
   "cell_type": "code",
   "execution_count": null,
   "metadata": {},
   "outputs": [],
   "source": [
    "color_enc = Color().field(\"Weight_in_lbs\").type(\"quantitative\").aggregate(\"mean\");\n",
    "\n",
    "enc = Encodings().x(x_enc).y(y_enc).color(color_enc);\n",
    "\n",
    "fig = Chart().data(df).mark(mr).encoding(enc).width(400).height(300);\n",
    "fig"
   ]
  },
  {
   "cell_type": "markdown",
   "metadata": {},
   "source": [
    "### 7. Time Series and Layering"
   ]
  },
  {
   "cell_type": "code",
   "execution_count": null,
   "metadata": {},
   "outputs": [],
   "source": [
    "x_enc = X().field(\"Year\").type(\"temporal\");\n",
    "y_enc = Y().field(\"Miles_per_Gallon\").type(\"quantitative\");\n",
    "\n",
    "enc = Encodings().x(x_enc).y(y_enc);\n",
    "\n",
    "fig = Chart().data(df).mark(mp).encoding(enc).width(400).height(300);\n",
    "fig"
   ]
  },
  {
   "cell_type": "markdown",
   "metadata": {},
   "source": [
    "#### Let's plot the mean instead of all points"
   ]
  },
  {
   "cell_type": "code",
   "execution_count": null,
   "metadata": {},
   "outputs": [],
   "source": [
    "auto ml = mark_line();\n",
    "y_enc = Y().field(\"Miles_per_Gallon\").type(\"quantitative\").aggregate(\"mean\");\n",
    "\n",
    "enc = Encodings().x(x_enc).y(y_enc);\n",
    "\n",
    "fig = Chart().data(df).mark(ml).encoding(enc).width(400).height(300);\n",
    "fig"
   ]
  },
  {
   "cell_type": "markdown",
   "metadata": {},
   "source": [
    "#### We can also plot the confidence interval of the estimated mean"
   ]
  },
  {
   "cell_type": "code",
   "execution_count": null,
   "metadata": {},
   "outputs": [],
   "source": [
    "auto ma = mark_area();\n",
    "y_enc = Y().field(\"Miles_per_Gallon\").type(\"quantitative\").aggregate(\"ci0\");\n",
    "auto y2_enc = Y2().field(\"Miles_per_Gallon\").aggregate(\"ci1\");\n",
    "\n",
    "enc = Encodings().x(x_enc).y(y_enc).y2(y2_enc);\n",
    "\n",
    "fig = Chart().data(df).mark(ma).encoding(enc).width(400).height(300);\n",
    "fig"
   ]
  },
  {
   "cell_type": "markdown",
   "metadata": {},
   "source": [
    "#### Let's Adjust the Chart by configuring Opacity, adding a cleaner Y Axis Title and splitting it by Country of Origin"
   ]
  },
  {
   "cell_type": "code",
   "execution_count": null,
   "metadata": {},
   "outputs": [],
   "source": [
    "ma = mark_area().opacity(0.3);\n",
    "x_enc = X().field(\"Year\").type(\"temporal\").timeUnit(\"year\");\n",
    "\n",
    "std::vector<std::string> title_text = {\"Miles per Gallon\"};\n",
    "auto ax = Axis().title(title_text);\n",
    "\n",
    "y_enc = Y().field(\"Miles_per_Gallon\").type(\"quantitative\").aggregate(\"ci0\").axis(ax);\n",
    "color_enc = Color().field(\"Origin\").type(\"nominal\");\n",
    "\n",
    "enc = Encodings().x(x_enc).y(y_enc).y2(y2_enc).color(color_enc);\n",
    "\n",
    "fig = Chart().data(df).mark(ma).encoding(enc).width(800).height(300);\n",
    "fig"
   ]
  },
  {
   "cell_type": "markdown",
   "metadata": {},
   "source": [
    "#### Let's represent the mean on top of the confidence interval -- layering!"
   ]
  },
  {
   "cell_type": "code",
   "execution_count": null,
   "metadata": {},
   "outputs": [],
   "source": [
    "auto y_enc_2 = Y().field(\"Miles_per_Gallon\").type(\"quantitative\").aggregate(\"mean\");\n",
    "\n",
    "enc_2 = Encodings().x(x_enc).y(y_enc_2).color(color_enc);\n",
    "\n",
    "fig = Chart().data(df).mark(ma).encoding(enc).width(800).height(300);\n",
    "fig2 = Chart().data(df).mark(ml).encoding(enc_2).width(800).height(300);\n",
    "\n",
    "auto fig4 = layer().charts({fig, fig2});\n",
    "fig4"
   ]
  },
  {
   "cell_type": "markdown",
   "metadata": {},
   "source": [
    "### 8. Transformations"
   ]
  },
  {
   "cell_type": "markdown",
   "metadata": {},
   "source": [
    "#### Let's do some Polynomial Regression on Horsepower vs. Miles per Gallon"
   ]
  },
  {
   "cell_type": "code",
   "execution_count": null,
   "metadata": {},
   "outputs": [],
   "source": [
    "x_enc = X().field(\"Miles_per_Gallon\").type(\"quantitative\");\n",
    "y_enc = Y().field(\"Horsepower\").type(\"quantitative\");\n",
    "\n",
    "enc = Encodings().x(x_enc).y(y_enc);\n",
    "\n",
    "ml = mark_line().color(\"firebrick\");\n",
    "auto regr = transform_regression().regression(\"Horsepower\").on(\"Miles_per_Gallon\").method(\"poly\");\n",
    "\n",
    "fig = Chart().data(df).mark(mp).encoding(enc).width(400).height(300);\n",
    "\n",
    "// Create a copy of the above figure and modify it's `mark` property.\n",
    "// Also set the polynomial regression `transformation`.\n",
    "fig2 = fig;\n",
    "fig2.mark() = ml;\n",
    "fig2.transformations() = {regr};\n",
    "\n",
    "// Finally, layer these charts on top of each other.\n",
    "auto fig5 = layer().charts({fig, fig2});\n",
    "fig5"
   ]
  },
  {
   "cell_type": "markdown",
   "metadata": {},
   "source": [
    "#### Let's create a Mosiac Chart using Stack Transformations twice!"
   ]
  },
  {
   "cell_type": "code",
   "execution_count": null,
   "metadata": {},
   "outputs": [],
   "source": [
    "auto agg_field = aggregate_field_def().op(\"count\").as(\"count_*\");\n",
    "std::vector<std::string> group_fields = {\"Origin\", \"Cylinders\"};\n",
    "auto agg_vec = {agg_field};\n",
    "auto agg = transform_aggregate().aggregate(agg_vec).groupby(group_fields);\n",
    "\n",
    "auto sort_field = sort_field_def().field(\"Origin\").order(\"ascending\");\n",
    "auto sort_vec = {sort_field};\n",
    "std::vector<std::string> as_fields = {\"stack_count_Origin1\", \"stack_count_Origin2\"};\n",
    "std::vector<std::string> emp = {};\n",
    "auto stck = transform_stack().stack(\"count_*\").offset(\"normalize\").sort(sort_vec).as(as_fields).groupby(emp);\n",
    "\n",
    "auto join_agg_field_1 = join_aggregate_field_def().op(\"min\").field(\"stack_count_Origin1\").as(\"x\");\n",
    "auto join_agg_field_2 = join_aggregate_field_def().op(\"max\").field(\"stack_count_Origin2\").as(\"x2\");\n",
    "auto join_agg_vec = {join_agg_field_1, join_agg_field_2};\n",
    "std::vector<std::string> grp_vec = {\"Origin\"};\n",
    "auto join_agg = transform_join_aggregate().joinaggregate(join_agg_vec).groupby(grp_vec);\n",
    "\n",
    "std::vector<std::string> as_fields_2 = {\"y\", \"y2\"};\n",
    "auto sort_field_2 = sort_field_def().field(\"Cylinders\").order(\"ascending\");\n",
    "auto sort_vec_2 = {sort_field};\n",
    "\n",
    "auto stck_2 = transform_stack().stack(\"count_*\").offset(\"normalize\").sort(sort_vec_2).as(as_fields_2).groupby(grp_vec);\n",
    "\n",
    "mr = mark_rect();\n",
    "\n",
    "x_enc = X().field(\"x\").type(\"quantitative\").axis(nullptr);\n",
    "auto x2_enc = X2().field(\"x2\");\n",
    "y_enc = Y().field(\"y\").type(\"quantitative\").axis(nullptr);\n",
    "y2_enc = Y2().field(\"y2\");\n",
    "\n",
    "auto opacity_enc = Opacity().field(\"Cylinders\").type(\"quantitative\").legend(nullptr);\n",
    "\n",
    "color_enc = Color().field(\"Origin\").type(\"nominal\");\n",
    "\n",
    "auto tooltip_enc_1 = Tooltip().field(\"Origin\").type(\"nominal\");\n",
    "auto tooltip_enc_2 = Tooltip().field(\"Cylinders\").type(\"quantitative\");\n",
    "auto t = {tooltip_enc_1, tooltip_enc_2};\n",
    "\n",
    "enc = Encodings().x(x_enc).y(y_enc).x2(x2_enc).y2(y2_enc).opacity(opacity_enc).tooltip(t).color(color_enc);\n",
    "\n",
    "fig = Chart().data(df).mark(mr).encoding(enc).transformations({agg, stck, join_agg, stck_2});\n",
    "fig"
   ]
  },
  {
   "cell_type": "markdown",
   "metadata": {},
   "source": [
    "#### Layering Text on a Heatmap with dynamic thresholding using Transforms"
   ]
  },
  {
   "cell_type": "code",
   "execution_count": null,
   "metadata": {},
   "outputs": [],
   "source": [
    "auto agg_field_2 = aggregate_field_def().op(\"count\").as(\"num_cars\");\n",
    "auto agg_vec_2 = {agg_field_2};\n",
    "std::vector<std::string> group_fields_2 = {\"Origin\", \"Cylinders\"};\n",
    "auto agg_2 = transform_aggregate().aggregate(agg_vec_2).groupby(group_fields_2);\n",
    "\n",
    "auto join_agg_field = join_aggregate_field_def().op(\"max\").field(\"num_cars\").as(\"max_num_cars\");\n",
    "auto join_agg_vec_2 = {join_agg_field};\n",
    "auto join_agg_2 = transform_join_aggregate().joinaggregate(join_agg_vec_2);\n",
    "\n",
    "auto calc = transform_calculate().calculate(\"datum.num_cars > 0.5 * datum.max_num_cars\").as(\"more_than_half\");\n",
    "\n",
    "auto leg = Legend().direction(\"horizontal\").gradientLength(120);\n",
    "\n",
    "x_enc = X().field(\"Cylinders\").type(\"ordinal\");\n",
    "y_enc = Y().field(\"Origin\").type(\"ordinal\");\n",
    "std::vector<std::string> til = {\"Count of Records\"};\n",
    "color_enc = Color().field(\"num_cars\").type(\"quantitative\").title(til).legend(leg);\n",
    "\n",
    "enc = Encodings().x(x_enc).y(y_enc).color(color_enc);\n",
    "\n",
    "auto text_enc = Text().field(\"num_cars\").type(\"quantitative\");\n",
    "std::vector<bool> bool_vec = {false, true};\n",
    "std::vector<std::string> range_params = {\"black\", \"white\"};\n",
    "auto scale_params = Scale().range(range_params).domain(bool_vec);\n",
    "auto color_enc_2 = Color().field(\"more_than_half\").type(\"nominal\").legend(nullptr).scale(scale_params);\n",
    "\n",
    "auto mt = mark_text();\n",
    "enc_2 = Encodings().x(x_enc).y(y_enc).color(color_enc_2).text(text_enc);\n",
    "\n",
    "fig = Chart().data(df).mark(mr).encoding(enc).transformations({agg_2, join_agg_2, calc});\n",
    "fig2 = Chart().data(df).mark(mt).encoding(enc_2).transformations({agg_2, join_agg_2, calc});\n",
    "fig4 = layer().charts({fig, fig2});\n",
    "fig4"
   ]
  },
  {
   "cell_type": "markdown",
   "metadata": {},
   "source": [
    "### 9. Sneak Peek on Selections and Interactivity"
   ]
  },
  {
   "cell_type": "code",
   "execution_count": null,
   "metadata": {},
   "outputs": [],
   "source": [
    "auto si = selection_interval();\n",
    "\n",
    "x_enc = X().field(\"Miles_per_Gallon\").type(\"quantitative\");\n",
    "y_enc = Y().field(\"Horsepower\").type(\"quantitative\");\n",
    "\n",
    "color_enc = Color().field(\"Origin\").type(\"nominal\");\n",
    "enc = Encodings().x(x_enc).y(y_enc).color(color_enc);\n",
    "\n",
    "fig = Chart().data(df).mark(mp).encoding(enc).selections({si}).width(400).height(300);\n",
    "fig"
   ]
  },
  {
   "cell_type": "markdown",
   "metadata": {},
   "source": [
    "#### Customising the Interval Selection"
   ]
  },
  {
   "cell_type": "code",
   "execution_count": null,
   "metadata": {},
   "outputs": [],
   "source": [
    "std::vector<std::string> si_props = {\"y\"};\n",
    "si = selection_interval().encodings(si_props);\n",
    "\n",
    "fig = Chart().data(df).mark(mp).encoding(enc).selections({si}).width(400).height(300);\n",
    "fig"
   ]
  },
  {
   "cell_type": "code",
   "execution_count": null,
   "metadata": {},
   "outputs": [],
   "source": [
    "si = selection_interval().bind(\"scales\");\n",
    "\n",
    "auto tooltip_enc = Tooltip().field(\"Name\").type(\"nominal\");\n",
    "auto to = {tooltip_enc};\n",
    "\n",
    "enc = Encodings().x(x_enc).y(y_enc).color(color_enc).tooltip(to);\n",
    "\n",
    "fig = Chart().data(df).mark(mp).encoding(enc).selections({si}).width(400).height(300);\n",
    "fig"
   ]
  },
  {
   "cell_type": "markdown",
   "metadata": {},
   "source": [
    "##### Note: While single and multi selections also work, it would be futile to demo them without conditions and conditions haven't been implemented as of now."
   ]
  },
  {
   "cell_type": "markdown",
   "metadata": {},
   "source": [
    "### 10. Chart Configurations"
   ]
  },
  {
   "cell_type": "markdown",
   "metadata": {},
   "source": [
    "#### A Chart can be configured in 3 main ways\n",
    "\n",
    "- **Local Configuration Settings**\n",
    "    - `auto ml = mark_line().color(\"firebrick\");`\n",
    "    - `auto ma = mark_area().opacity(0.3);`\n",
    "- **Encoding Values**\n",
    "    - `auto leg = Legend().direction(\"horizontal\").gradientLength(120);`\n",
    "       - and using `leg` further in an `Encodings` object.\n",
    "- **Top Level Chart Config**\n",
    "\n",
    "We have already explored *Local Configuration Settings* and *Encoding Values*\n",
    "\n",
    "Let's showcase *Top Level Chart Config* as well\n",
    "- We will change the properties of **points**\n",
    "- We will also remove **grid lines** from the plot\n",
    "\n",
    "NOTE: When all configurations are used simultaneously, the priority is given in the following order:\n",
    "- (Higher Priority) *Encoding Values > Local Configuration Settings > Top Level Chart Config* (Lower Priority)"
   ]
  },
  {
   "cell_type": "code",
   "execution_count": null,
   "metadata": {},
   "outputs": [],
   "source": [
    "enc = Encodings().x(x_enc).y(y_enc);\n",
    "\n",
    "auto ac = axis_config().grid(false);\n",
    "auto pc = mark_config().filled(true).size(200).color(\"red\");\n",
    "\n",
    "auto cf = Config().point(pc).axis(ac);\n",
    "\n",
    "fig = Chart().data(df).mark(mp).encoding(enc).config(cf).width(400).height(300);\n",
    "fig"
   ]
  },
  {
   "cell_type": "markdown",
   "metadata": {},
   "source": [
    "### Coming Soon!\n",
    "- Support for Conditions"
   ]
  }
 ],
 "metadata": {
  "kernelspec": {
   "display_name": "C++14",
   "language": "C++14",
   "name": "xcpp14"
  },
  "language_info": {
   "codemirror_mode": "text/x-c++src",
   "file_extension": ".cpp",
   "mimetype": "text/x-c++src",
   "name": "c++",
   "version": "14"
  }
 },
 "nbformat": 4,
 "nbformat_minor": 4
}
