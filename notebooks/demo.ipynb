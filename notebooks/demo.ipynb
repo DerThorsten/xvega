{
 "cells": [
  {
   "cell_type": "code",
   "execution_count": null,
   "metadata": {},
   "outputs": [],
   "source": [
    "#include \"xvega/xvega.hpp\""
   ]
  },
  {
   "cell_type": "code",
   "execution_count": null,
   "metadata": {},
   "outputs": [],
   "source": [
    "using namespace xv;"
   ]
  },
  {
   "cell_type": "code",
   "execution_count": null,
   "metadata": {},
   "outputs": [],
   "source": [
    "dataFrame df;\n",
    "df[\"project\"] = {\"a\", \"a\", \"a\", \"d\", \"e\", \"f\", \"g\"};\n",
    "df[\"score\"]= {25, 57, 23, 19, 8, 47, 8};\n",
    "df[\"goal\"] = {25, 47, 30, 27, 38, 19, 4};\n",
    "df[\"origin\"] = {34, 23, 35, 21, 17, 26, 34};\n",
    "df[\"country\"] = {\"India\", \"France\", \"France\", \"Germany\", \"India\", \"Germany\", \"France\"};\n",
    "df[\"feedback\"] = {\"good\", \"bad\", \"bad\", \"neutral\", \"good\", \"neutral\", \"bad\"};\n",
    "df[\"url\"] = {\"https://www.google.com/search?q=India\", \"https://www.google.com/search?q=France\", \"https://www.google.com/search?q=France\", \"https://www.google.com/search?q=Germany\", \"https://www.google.com/search?q=India\", \"https://www.google.com/search?q=Germany\", \"https://www.google.com/search?q=France\"};"
   ]
  },
  {
   "cell_type": "code",
   "execution_count": null,
   "metadata": {},
   "outputs": [],
   "source": [
    "auto ax = Axis().format(std::string(\".1\"));\n",
    "\n",
    "auto x_enc = X().field(\"score\").type(\"quantitative\");\n",
    "auto y_enc = Y().field(\"goal\").type(\"quantitative\").axis(ax);\n",
    "\n",
    "auto s = {\"bad\", \"neutral\", \"good\"};\n",
    "auto c = {\"#c30d24\", \"#f8a95c\", \"#1770ab\"};\n",
    "auto scale_option = Scale().domain(s).range(c);\n",
    "\n",
    "auto color_enc = Color().field(\"feedback\").type(\"nominal\").scale(scale_option);\n",
    "auto row_enc = Row().field(\"feedback\").type(\"nominal\");\n",
    "auto size_enc = Size().field(\"origin\").type(\"quantitative\");\n",
    "\n",
    "auto tooltip_enc_1 = Tooltip().field(\"origin\").type(\"quantitative\");\n",
    "auto tooltip_enc_2 = Tooltip().field(\"country\").type(\"nominal\");\n",
    "auto t = {tooltip_enc_1, tooltip_enc_2};\n",
    "\n",
    "auto text_enc = Text().field(\"project\").type(\"nominal\");\n",
    "\n",
    "auto rule_enc = Y().field(\"goal\").type(\"quantitative\").aggregate(\"mean\");\n",
    "\n",
    "auto href_enc = Href().field(\"url\").type(\"nominal\");\n",
    "\n",
    "auto enc = Encodings().x(x_enc).y(y_enc).color(color_enc).tooltip(t).href(href_enc);\n",
    "auto enc_2 = Encodings().text(text_enc).x(x_enc).y(y_enc);\n",
    "auto enc_3 = Encodings().y(rule_enc);\n",
    "auto enc_4 = Encodings().x(x_enc).y(y_enc);\n",
    "\n",
    "auto stop_1 = GradientStop().color(\"white\").offset(0);\n",
    "auto stop_2 = GradientStop().color(\"green\").offset(1);\n",
    "auto grad = LinearGradient().stops({stop_1, stop_2}).x1(1).y1(1);\n",
    "\n",
    "nl::json lineProp;\n",
    "lineProp[\"color\"] = \"pink\";\n",
    "\n",
    "auto mc = mark_circle().size(100);\n",
    "auto mt = mark_text().align(\"left\").baseline(\"middle\").dx(10);\n",
    "auto mr = mark_rule().color(\"firebrick\");\n",
    "auto ma = mark_area().line(lineProp).color(grad).interpolate(\"monotone\");\n",
    "\n",
    "auto fig = Chart().data(df).marks({ma, mc, mt, mr}).encodings({enc_4, enc, enc_2, enc_3}).width(300);\n",
    "fig"
   ]
  }
 ],
 "metadata": {
  "kernelspec": {
   "display_name": "C++14",
   "language": "C++14",
   "name": "xcpp14"
  },
  "language_info": {
   "codemirror_mode": "text/x-c++src",
   "file_extension": ".cpp",
   "mimetype": "text/x-c++src",
   "name": "c++",
   "version": "14"
  }
 },
 "nbformat": 4,
 "nbformat_minor": 4
}
