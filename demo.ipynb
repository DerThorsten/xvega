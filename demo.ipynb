{
 "cells": [
  {
   "cell_type": "code",
   "execution_count": 1,
   "metadata": {},
   "outputs": [],
   "source": [
    "#include \"xvega/xvega.hpp\""
   ]
  },
  {
   "cell_type": "code",
   "execution_count": 2,
   "metadata": {},
   "outputs": [],
   "source": [
    "dataFrame df;\n",
    "df[\"project\"] = {\"a\", \"a\", \"a\", \"d\", \"e\", \"f\", \"g\"};\n",
    "df[\"score\"]= {25, 57, 23, 19, 8, 47, 8};\n",
    "df[\"goal\"] = {25, 47, 30, 27, 38, 19, 4};\n",
    "df[\"origin\"] = {34, 23, 52, 9, 17, 26, 34};"
   ]
  },
  {
   "cell_type": "code",
   "execution_count": 3,
   "metadata": {},
   "outputs": [],
   "source": [
    "auto x_enc = X().field(\"project\").type(\"nominal\");\n",
    "auto color_enc = Color().field(\"score\").type(\"quantitative\");\n",
    "auto y_enc = Y().field(\"goal\").type(\"quantitative\");\n",
    "auto y_enc_2 = Y().field(\"origin\").type(\"quantitative\");\n",
    "\n",
    "auto enc = Encodings().x(x_enc).y(y_enc);\n",
    "auto enc_2 = Encodings().x(x_enc).y(y_enc_2).color(color_enc);\n",
    "\n",
    "auto stop_1 = GradientStop().color(\"white\").offset(0);\n",
    "auto stop_2 = GradientStop().color(\"firebrick\").offset(1);\n",
    "auto grad = LinearGradient().stops({stop_1, stop_2}).x1(1).y1(1);\n",
    "\n",
    "auto ml = Marks().type(\"area\").color(grad).invalid(nullptr);\n",
    "auto mp = Marks().type(\"point\").shape(\"square\");\n",
    "// mp.type = \"hahaha\";"
   ]
  },
  {
   "cell_type": "code",
   "execution_count": 4,
   "metadata": {},
   "outputs": [
    {
     "data": {
      "application/vnd.vegalite.v3+json": {
       "$schema": "https://vega.github.io/schema/vega-lite/v4.json",
       "data": {
        "values": [
         {
          "goal": 25,
          "origin": 34,
          "project": "a",
          "score": 25
         },
         {
          "goal": 47,
          "origin": 23,
          "project": "a",
          "score": 57
         },
         {
          "goal": 30,
          "origin": 52,
          "project": "a",
          "score": 23
         },
         {
          "goal": 27,
          "origin": 9,
          "project": "d",
          "score": 19
         },
         {
          "goal": 38,
          "origin": 17,
          "project": "e",
          "score": 8
         },
         {
          "goal": 19,
          "origin": 26,
          "project": "f",
          "score": 47
         },
         {
          "goal": 4,
          "origin": 34,
          "project": "g",
          "score": 8
         }
        ]
       },
       "layer": [
        {
         "encoding": {
          "x": {
           "field": "project",
           "type": "nominal"
          },
          "y": {
           "field": "goal",
           "type": "quantitative"
          }
         },
         "mark": {
          "color": {
           "gradient": "linear",
           "stops": [
            {
             "color": "white",
             "offset": 0
            },
            {
             "color": "firebrick",
             "offset": 1
            }
           ],
           "x1": 1,
           "y1": 1
          },
          "invalid": null,
          "type": "area"
         }
        },
        {
         "encoding": {
          "x": {
           "field": "project",
           "type": "nominal"
          },
          "y": {
           "field": "origin",
           "type": "quantitative"
          }
         },
         "mark": {
          "shape": "square",
          "type": "point"
         }
        }
       ]
      },
      "image/png": "[encoded data removed]"
     },
     "execution_count": 4,
     "metadata": {},
     "output_type": "execute_result"
    }
   ],
   "source": [
    "auto fig = xv::Chart().data(df).marks({ml, mp}).encodings({enc, enc_2});\n",
    "fig"
   ]
  }
 ],
 "metadata": {
  "kernelspec": {
   "display_name": "C++14",
   "language": "C++14",
   "name": "xcpp14"
  },
  "language_info": {
   "codemirror_mode": "text/x-c++src",
   "file_extension": ".cpp",
   "mimetype": "text/x-c++src",
   "name": "c++",
   "version": "14"
  }
 },
 "nbformat": 4,
 "nbformat_minor": 4
}
