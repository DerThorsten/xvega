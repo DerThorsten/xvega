{
 "cells": [
  {
   "cell_type": "code",
   "execution_count": 1,
   "metadata": {},
   "outputs": [],
   "source": [
    "#include \"xvega/xvega.hpp\""
   ]
  },
  {
   "cell_type": "code",
   "execution_count": 2,
   "metadata": {},
   "outputs": [],
   "source": [
    "using namespace xv;"
   ]
  },
  {
   "cell_type": "code",
   "execution_count": 3,
   "metadata": {},
   "outputs": [],
   "source": [
    "dataFrame df;\n",
    "df[\"project\"] = {\"a\", \"a\", \"a\", \"d\", \"e\", \"f\", \"g\"};\n",
    "df[\"score\"]= {25, 57, 23, 19, 8, 47, 8};\n",
    "df[\"goal\"] = {25, 47, 30, 27, 38, 19, 4};\n",
    "df[\"origin\"] = {34, 23, 35, 21, 17, 26, 34};\n",
    "df[\"country\"] = {\"India\", \"France\", \"France\", \"Germany\", \"India\", \"Germany\", \"France\"};\n",
    "df[\"feedback\"] = {\"good\", \"bad\", \"bad\", \"neutral\", \"good\", \"neutral\", \"bad\"};\n",
    "df[\"url\"] = {\"https://www.google.com/search?q=India\", \"https://www.google.com/search?q=France\", \"https://www.google.com/search?q=France\", \"https://www.google.com/search?q=Germany\", \"https://www.google.com/search?q=India\", \"https://www.google.com/search?q=Germany\", \"https://www.google.com/search?q=France\"};"
   ]
  },
  {
   "cell_type": "code",
   "execution_count": 4,
   "metadata": {},
   "outputs": [
    {
     "data": {
      "application/vnd.vegalite.v3+json": {
       "$schema": "https://vega.github.io/schema/vega-lite/v4.json",
       "data": {
        "values": [
         {
          "country": "India",
          "feedback": "good",
          "goal": 25,
          "origin": 34,
          "project": "a",
          "score": 25,
          "url": "https://www.google.com/search?q=India"
         },
         {
          "country": "France",
          "feedback": "bad",
          "goal": 47,
          "origin": 23,
          "project": "a",
          "score": 57,
          "url": "https://www.google.com/search?q=France"
         },
         {
          "country": "France",
          "feedback": "bad",
          "goal": 30,
          "origin": 35,
          "project": "a",
          "score": 23,
          "url": "https://www.google.com/search?q=France"
         },
         {
          "country": "Germany",
          "feedback": "neutral",
          "goal": 27,
          "origin": 21,
          "project": "d",
          "score": 19,
          "url": "https://www.google.com/search?q=Germany"
         },
         {
          "country": "India",
          "feedback": "good",
          "goal": 38,
          "origin": 17,
          "project": "e",
          "score": 8,
          "url": "https://www.google.com/search?q=India"
         },
         {
          "country": "Germany",
          "feedback": "neutral",
          "goal": 19,
          "origin": 26,
          "project": "f",
          "score": 47,
          "url": "https://www.google.com/search?q=Germany"
         },
         {
          "country": "France",
          "feedback": "bad",
          "goal": 4,
          "origin": 34,
          "project": "g",
          "score": 8,
          "url": "https://www.google.com/search?q=France"
         }
        ]
       },
       "layer": [
        {
         "encoding": {
          "x": {
           "field": "score",
           "type": "quantitative"
          },
          "y": {
           "axis": {
            "format": ".1"
           },
           "field": "goal",
           "type": "quantitative"
          }
         },
         "mark": {
          "color": {
           "gradient": "linear",
           "stops": [
            {
             "color": "white",
             "offset": 0
            },
            {
             "color": "green",
             "offset": 1
            }
           ],
           "x1": 1,
           "y1": 1
          },
          "interpolate": "monotone",
          "line": {
           "color": "pink"
          },
          "type": "area"
         }
        },
        {
         "encoding": {
          "color": {
           "field": "feedback",
           "scale": {
            "domain": [
             "bad",
             "neutral",
             "good"
            ],
            "range": [
             "#c30d24",
             "#f8a95c",
             "#1770ab"
            ]
           },
           "type": "nominal"
          },
          "href": {
           "field": "url",
           "type": "nominal"
          },
          "tooltip": [
           {
            "field": "origin",
            "type": "quantitative"
           },
           {
            "field": "country",
            "type": "nominal"
           }
          ],
          "x": {
           "field": "score",
           "type": "quantitative"
          },
          "y": {
           "axis": {
            "format": ".1"
           },
           "field": "goal",
           "type": "quantitative"
          }
         },
         "mark": {
          "size": 100,
          "type": "circle"
         }
        },
        {
         "encoding": {
          "text": {
           "field": "project",
           "type": "nominal"
          },
          "x": {
           "field": "score",
           "type": "quantitative"
          },
          "y": {
           "axis": {
            "format": ".1"
           },
           "field": "goal",
           "type": "quantitative"
          }
         },
         "mark": {
          "align": "left",
          "baseline": "middle",
          "dx": 10,
          "type": "text"
         }
        },
        {
         "encoding": {
          "y": {
           "aggregate": "mean",
           "field": "goal",
           "type": "quantitative"
          }
         },
         "mark": {
          "color": "firebrick",
          "type": "rule"
         }
        }
       ],
       "width": 300
      },
      "image/png": "[encoded data removed]"
     },
     "execution_count": 4,
     "metadata": {},
     "output_type": "execute_result"
    }
   ],
   "source": [
    "auto ax = Axis().format(std::string(\".1\"));\n",
    "\n",
    "auto x_enc = X().field(\"score\").type(\"quantitative\");\n",
    "auto y_enc = Y().field(\"goal\").type(\"quantitative\").axis(ax);\n",
    "\n",
    "auto s = {\"bad\", \"neutral\", \"good\"};\n",
    "auto c = {\"#c30d24\", \"#f8a95c\", \"#1770ab\"};\n",
    "auto scale_option = Scale().domain(s).range(c);\n",
    "\n",
    "auto color_enc = Color().field(\"feedback\").type(\"nominal\").scale(scale_option);\n",
    "auto row_enc = Row().field(\"feedback\").type(\"nominal\");\n",
    "auto size_enc = Size().field(\"origin\").type(\"quantitative\");\n",
    "\n",
    "auto tooltip_enc_1 = Tooltip().field(\"origin\").type(\"quantitative\");\n",
    "auto tooltip_enc_2 = Tooltip().field(\"country\").type(\"nominal\");\n",
    "auto t = {tooltip_enc_1, tooltip_enc_2};\n",
    "\n",
    "auto text_enc = Text().field(\"project\").type(\"nominal\");\n",
    "\n",
    "auto rule_enc = Y().field(\"goal\").type(\"quantitative\").aggregate(\"mean\");\n",
    "\n",
    "auto href_enc = Href().field(\"url\").type(\"nominal\");\n",
    "\n",
    "auto enc = Encodings().x(x_enc).y(y_enc).color(color_enc).tooltip(t).href(href_enc);\n",
    "auto enc_2 = Encodings().text(text_enc).x(x_enc).y(y_enc);\n",
    "auto enc_3 = Encodings().y(rule_enc);\n",
    "auto enc_4 = Encodings().x(x_enc).y(y_enc);\n",
    "\n",
    "auto stop_1 = GradientStop().color(\"white\").offset(0);\n",
    "auto stop_2 = GradientStop().color(\"green\").offset(1);\n",
    "auto grad = LinearGradient().stops({stop_1, stop_2}).x1(1).y1(1);\n",
    "\n",
    "nl::json lineProp;\n",
    "lineProp[\"color\"] = \"pink\";\n",
    "\n",
    "auto mc = Marks().type(\"circle\").size(100);\n",
    "auto mt = Marks().type(\"text\").align(\"left\").baseline(\"middle\").dx(10);\n",
    "auto mr = Marks().type(\"rule\").color(\"firebrick\");\n",
    "auto ma = Marks().type(\"area\").line(lineProp).color(grad).interpolate(\"monotone\");\n",
    "\n",
    "auto fig = Chart().data(df).marks({ma, mc, mt, mr}).encodings({enc_4, enc, enc_2, enc_3}).width(300);\n",
    "fig"
   ]
  }
 ],
 "metadata": {
  "kernelspec": {
   "display_name": "C++14",
   "language": "C++14",
   "name": "xcpp14"
  },
  "language_info": {
   "codemirror_mode": "text/x-c++src",
   "file_extension": ".cpp",
   "mimetype": "text/x-c++src",
   "name": "c++",
   "version": "14"
  }
 },
 "nbformat": 4,
 "nbformat_minor": 4
}
